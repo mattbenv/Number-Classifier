{
  "cells": [
    {
      "cell_type": "markdown",
      "source": [
        "## Matthew Benvenuto\n",
        "## Morgan Acevedo\n",
        "## Mutasim Mim\n",
        "## Qinying Chen\n",
        "## Wayne Nguyen"
      ],
      "metadata": {
        "id": "IQhn9JTqvd97"
      }
    },
    {
      "cell_type": "markdown",
      "source": [
        "## Problem 1"
      ],
      "metadata": {
        "id": "BoZA7uz7tMPq"
      }
    },
    {
      "cell_type": "code",
      "execution_count": null,
      "metadata": {
        "id": "3TiMv-g8s4Wf"
      },
      "outputs": [],
      "source": [
        "import pandas as pd\n",
        "import numpy as np\n",
        "import matplotlib.pyplot as plt\n",
        "from sklearn.model_selection import GridSearchCV\n",
        "from sklearn.neighbors import KNeighborsClassifier"
      ]
    },
    {
      "cell_type": "code",
      "execution_count": null,
      "metadata": {
        "colab": {
          "base_uri": "https://localhost:8080/",
          "height": 36
        },
        "id": "DqgfvqEkvLV3",
        "outputId": "696943bd-85d8-446a-f979-aa9015bed4a7"
      },
      "outputs": [
        {
          "output_type": "display_data",
          "data": {
            "text/plain": [
              "<Figure size 432x288 with 0 Axes>"
            ]
          },
          "metadata": {}
        }
      ],
      "source": [
        "plt.gray()"
      ]
    },
    {
      "cell_type": "code",
      "execution_count": null,
      "metadata": {
        "id": "4f5YPkN2tESp"
      },
      "outputs": [],
      "source": [
        "#Load the training and test zip datasets\n",
        "#train_data = pd.read_csv('C:\\\\Users\\\\mutas\\\\Downloads\\\\datasets_export\\\\zipcode\\\\zip.train')\n",
        "train_data = pd.read_csv('/content/zip.train')\n",
        "train_data = train_data.sample(frac=1)\n",
        "\n",
        "#test_data = pd.read_csv('C:\\\\Users\\\\mutas\\\\Downloads\\\\datasets_export\\\\zipcode\\\\zip.test')\n",
        "test_data = pd.read_csv('/content/zip.test')\n",
        "test_data = test_data.sample(frac=1)"
      ]
    },
    {
      "cell_type": "code",
      "execution_count": null,
      "metadata": {
        "id": "DcjIMbSCtLUx"
      },
      "outputs": [],
      "source": [
        "X_train = []\n",
        "y_train = []\n",
        "\"\"\"For every line in the training data, we split the digit id \n",
        "and the grayscale values. Then, we put the grayscale values into a separate list. \n",
        "Then, add all digit id to X_train and all grayscale values to y_train.\"\"\"\n",
        "\n",
        "for i in range(train_data.shape[0]):\n",
        "  data = train_data.iloc[i, :][0]\n",
        "  data = data.split(' ')\n",
        "  d, im = int(float(data[0])), data[1:-1]\n",
        "  \n",
        "  im = [float(val) for val in im]\n",
        "  #im = np.array(im).reshape(16,16)\n",
        "  X_train.append(im)\n",
        "  y_train.append(d)\n",
        "\n",
        "X_train = [np.array(entry) for entry in X_train]\n",
        "#X_train = np.array(X_train).reshape(len(X_train),1)\n",
        "#y_train = np.array(y_train).reshape(len(y_train),1)"
      ]
    },
    {
      "cell_type": "code",
      "execution_count": null,
      "metadata": {
        "id": "mT7PcLQe2nzK"
      },
      "outputs": [],
      "source": [
        "X_test = []\n",
        "y_test = []\n",
        "\"\"\"For every line in the testing data, we split the digit id \n",
        "and the grayscale values. Then, we put the grayscale values into a separate list. \n",
        "Then, add all digit id to X_test and all grayscale values to y_test.\"\"\"\n",
        "\n",
        "for i in range(test_data.shape[0]):\n",
        "  data = test_data.iloc[i, :][0]\n",
        "  data = data.split(' ')\n",
        "  d, im = int(float(data[0])), data[1:]\n",
        "  #im = data[:-1]\n",
        "\n",
        "  im = [float(val) for val in im]\n",
        "  #im = np.array(im).reshape(16,16)\n",
        "  X_test.append(im)\n",
        "  y_test.append(d)\n",
        "\n",
        "X_test = [np.array(entry) for entry in X_test]\n",
        "X_test = np.array(X_test)\n",
        "#y_test = np.array(y_test)"
      ]
    },
    {
      "cell_type": "code",
      "source": [
        "#Plot some of the handwritten digits. The pictures look good."
      ],
      "metadata": {
        "id": "J90usLlarWDV"
      },
      "execution_count": null,
      "outputs": []
    },
    {
      "cell_type": "code",
      "execution_count": null,
      "metadata": {
        "id": "Sauga2b_trhv",
        "outputId": "e3715982-2d69-4a74-db2c-d7f9362ed938"
      },
      "outputs": [
        {
          "data": {
            "image/png": "[encoded data removed]",
            "text/plain": [
              "<Figure size 432x288 with 1 Axes>"
            ]
          },
          "metadata": {
            "needs_background": "light"
          },
          "output_type": "display_data"
        },
        {
          "data": {
            "image/png": "[encoded data removed]",
            "text/plain": [
              "<Figure size 432x288 with 1 Axes>"
            ]
          },
          "metadata": {
            "needs_background": "light"
          },
          "output_type": "display_data"
        },
        {
          "data": {
            "image/png": "[encoded data removed]",
            "text/plain": [
              "<Figure size 432x288 with 1 Axes>"
            ]
          },
          "metadata": {
            "needs_background": "light"
          },
          "output_type": "display_data"
        },
        {
          "data": {
            "image/png": "[encoded data removed]",
            "text/plain": [
              "<Figure size 432x288 with 1 Axes>"
            ]
          },
          "metadata": {
            "needs_background": "light"
          },
          "output_type": "display_data"
        },
        {
          "data": {
            "image/png": "[encoded data removed]",
            "text/plain": [
              "<Figure size 432x288 with 1 Axes>"
            ]
          },
          "metadata": {
            "needs_background": "light"
          },
          "output_type": "display_data"
        },
        {
          "data": {
            "image/png": "[encoded data removed]",
            "text/plain": [
              "<Figure size 432x288 with 1 Axes>"
            ]
          },
          "metadata": {
            "needs_background": "light"
          },
          "output_type": "display_data"
        },
        {
          "data": {
            "image/png": "[encoded data removed]",
            "text/plain": [
              "<Figure size 432x288 with 1 Axes>"
            ]
          },
          "metadata": {
            "needs_background": "light"
          },
          "output_type": "display_data"
        },
        {
          "data": {
            "image/png": "[encoded data removed]",
            "text/plain": [
              "<Figure size 432x288 with 1 Axes>"
            ]
          },
          "metadata": {
            "needs_background": "light"
          },
          "output_type": "display_data"
        },
        {
          "data": {
            "image/png": "[encoded data removed]",
            "text/plain": [
              "<Figure size 432x288 with 1 Axes>"
            ]
          },
          "metadata": {
            "needs_background": "light"
          },
          "output_type": "display_data"
        },
        {
          "data": {
            "image/png": "[encoded data removed]",
            "text/plain": [
              "<Figure size 432x288 with 1 Axes>"
            ]
          },
          "metadata": {
            "needs_background": "light"
          },
          "output_type": "display_data"
        },
        {
          "data": {
            "image/png": "[encoded data removed]",
            "text/plain": [
              "<Figure size 432x288 with 1 Axes>"
            ]
          },
          "metadata": {
            "needs_background": "light"
          },
          "output_type": "display_data"
        },
        {
          "data": {
            "image/png": "[encoded data removed]",
            "text/plain": [
              "<Figure size 432x288 with 1 Axes>"
            ]
          },
          "metadata": {
            "needs_background": "light"
          },
          "output_type": "display_data"
        },
        {
          "data": {
            "image/png": "[encoded data removed]",
            "text/plain": [
              "<Figure size 432x288 with 1 Axes>"
            ]
          },
          "metadata": {
            "needs_background": "light"
          },
          "output_type": "display_data"
        },
        {
          "data": {
            "image/png": "[encoded data removed]",
            "text/plain": [
              "<Figure size 432x288 with 1 Axes>"
            ]
          },
          "metadata": {
            "needs_background": "light"
          },
          "output_type": "display_data"
        },
        {
          "data": {
            "image/png": "[encoded data removed]",
            "text/plain": [
              "<Figure size 432x288 with 1 Axes>"
            ]
          },
          "metadata": {
            "needs_background": "light"
          },
          "output_type": "display_data"
        },
        {
          "data": {
            "image/png": "[encoded data removed]",
            "text/plain": [
              "<Figure size 432x288 with 1 Axes>"
            ]
          },
          "metadata": {
            "needs_background": "light"
          },
          "output_type": "display_data"
        },
        {
          "data": {
            "image/png": "[encoded data removed]",
            "text/plain": [
              "<Figure size 432x288 with 1 Axes>"
            ]
          },
          "metadata": {
            "needs_background": "light"
          },
          "output_type": "display_data"
        },
        {
          "data": {
            "image/png": "[encoded data removed]",
            "text/plain": [
              "<Figure size 432x288 with 1 Axes>"
            ]
          },
          "metadata": {
            "needs_background": "light"
          },
          "output_type": "display_data"
        },
        {
          "data": {
            "image/png": "[encoded data removed]",
            "text/plain": [
              "<Figure size 432x288 with 1 Axes>"
            ]
          },
          "metadata": {
            "needs_background": "light"
          },
          "output_type": "display_data"
        },
        {
          "data": {
            "image/png": "[encoded data removed]",
            "text/plain": [
              "<Figure size 432x288 with 1 Axes>"
            ]
          },
          "metadata": {
            "needs_background": "light"
          },
          "output_type": "display_data"
        }
      ],
      "source": [
        "for im in X_train[:20]:\n",
        "  plt.imshow(im.reshape(16,16))\n",
        "  plt.pause(0.2)"
      ]
    },
    {
      "cell_type": "code",
      "execution_count": null,
      "metadata": {
        "id": "bcv2Rc0spOAS"
      },
      "outputs": [],
      "source": [
        "#Apply our code from lab 5\n",
        "class myknn_3(BaseEstimator):\n",
        "  def __init__(self,k=3, lmbda=0.4):\n",
        "    self.k = k\n",
        "    self.lmbda = lmbda\n",
        "  \n",
        "  def fit(self, X, y):\n",
        "    self.X = X\n",
        "    self.y = y\n",
        "    self.n = len(X)\n",
        "    '''We are analyzing the k nearest neighbors for each and every point. For each point, we compute the weight for k nearest region for all the types.\n",
        "    Each type is assigned a weight and the type with the highest weight is the type for that region(with predicted point). We repeat the process on all of the data points.'''\n",
        "     \n",
        "  def predict(self,X_):\n",
        "    k = self.k\n",
        "    m = len(X_)\n",
        "    lmbda = self.lmbda\n",
        "    yhat = np.array(m*[0])\n",
        "    X = self.X\n",
        "    y = self.y\n",
        "    n = self.n\n",
        "    #We are building a distance class and sorting them.\n",
        "  \n",
        "    for l in range(m):\n",
        "      x = X_[l]\n",
        "      dists_classes = []\n",
        "      for i in range(n):\n",
        "        d = D(X[i], x)\n",
        "        #c = y[i][0]\n",
        "        c = y[i]\n",
        "        dists_classes.append([d,c])\n",
        "      dists_classes = sorted(dists_classes)\n",
        "      dists_classes = dists_classes[:k]\n",
        "\n",
        "     #We are making a dictionary of the sum of the weights corresponding to the type.\n",
        "      kk = 10\n",
        "      weights = {}\n",
        "      for j in range(kk):\n",
        "        weights[j] = 0\n",
        "      \n",
        "      for j in range(k):\n",
        "        d, c = dists_classes[j][0], dists_classes[j][1]\n",
        "        w = float(np.exp(-1*lmbda*d))\n",
        "        weights[c] += w\n",
        "\n",
        "      max_class = 0\n",
        "      #We are getting the position of the max_class.\n",
        "      for j in range(kk):\n",
        "        if weights[j] > weights[max_class]:\n",
        "          max_class = j\n",
        "      #We are filling the predicted array with the max_class.\n",
        "      yhat[l] = max_class\n",
        "      \n",
        "\n",
        "    return yhat\n",
        "      #The score is defined by how many matches are predicted array have with the actual array.\n",
        "  def score(self, X,y):\n",
        "    yhat = self.predict(X)\n",
        "    counter = 0\n",
        "    for i in range(len(y)):\n",
        "      if y[i] == yhat[i]:\n",
        "        counter += 1\n",
        "    #print(counter)\n",
        "    return counter/len(y)\n",
        "  \n",
        "  def get_params(self,  deep):\n",
        "      return {'k': self.k}\n",
        "    \n",
        "  def set_params(self, **parameters):\n",
        "    for parameter, value in parameters.items():\n",
        "      setattr(self,parameter, value)\n",
        "    return self"
      ]
    },
    {
      "cell_type": "code",
      "execution_count": null,
      "metadata": {
        "scrolled": true,
        "id": "0EJMwoTbpOAU",
        "outputId": "b368e39a-541b-4e08-b0e8-06791d548762"
      },
      "outputs": [
        {
          "data": {
            "text/plain": [
              "GridSearchCV(cv=3, estimator=myknn_3(),\n",
              "             param_grid={'k': [1, 2, 3, 4],\n",
              "                         'lmbda': [0.1, 0.2, 0.3, 0.5, 1, 2]})"
            ]
          },
          "execution_count": 80,
          "metadata": {},
          "output_type": "execute_result"
        }
      ],
      "source": [
        "#Compute the accuracy of the optimal model\n",
        "inds = np.random.randint(0,len(X_train), 500)\n",
        "X_train_new = [X_train[ind] for ind in inds]\n",
        "y_train_new = [y_train[ind] for ind in inds]\n",
        "\n",
        "model = myknn_3()\n",
        "cv = GridSearchCV(model, param_grid={'k':[1,2,3,4], 'lmbda':[0.1,0.2,.3,0.5,1,2]}, cv = 3)\n",
        "cv.fit(X_train_new,y_train_new)"
      ]
    },
    {
      "cell_type": "code",
      "execution_count": null,
      "metadata": {
        "id": "wYn1TFnkpOAV",
        "outputId": "8cb7d0a6-acd0-4869-d6c4-f9319981d1c5"
      },
      "outputs": [
        {
          "data": {
            "text/plain": [
              "0.9060313108722314"
            ]
          },
          "execution_count": 81,
          "metadata": {},
          "output_type": "execute_result"
        }
      ],
      "source": [
        "cv.best_score_"
      ]
    },
    {
      "cell_type": "code",
      "execution_count": null,
      "metadata": {
        "scrolled": true,
        "id": "SQS87_F8pOAX",
        "outputId": "4c9994be-3f14-46ce-b5e3-ae59abe8bd1f"
      },
      "outputs": [
        {
          "data": {
            "text/plain": [
              "{'k': 3, 'lmbda': 1}"
            ]
          },
          "execution_count": 82,
          "metadata": {},
          "output_type": "execute_result"
        }
      ],
      "source": [
        "cv.best_params_"
      ]
    },
    {
      "cell_type": "code",
      "execution_count": null,
      "metadata": {
        "id": "myWNfQdPpOAY",
        "outputId": "d7860576-ee08-4ed6-9ab8-c8a1e8648049"
      },
      "outputs": [
        {
          "data": {
            "text/plain": [
              "0.8778664007976071"
            ]
          },
          "execution_count": 83,
          "metadata": {},
          "output_type": "execute_result"
        }
      ],
      "source": [
        "#Optimal model using myknn()\n",
        "best_model = cv.best_estimator_\n",
        "best_model.score(X_test, y_test)"
      ]
    },
    {
      "cell_type": "code",
      "execution_count": null,
      "metadata": {
        "colab": {
          "base_uri": "https://localhost:8080/"
        },
        "id": "vSpwo6yc578V",
        "outputId": "4cf54f74-5a0d-4968-a963-accd869e3471"
      },
      "outputs": [
        {
          "data": {
            "text/plain": [
              "GridSearchCV(cv=3, estimator=KNeighborsClassifier(),\n",
              "             param_grid={'metric': ['euclidean', 'manhattan'], 'n_jobs': [-1],\n",
              "                         'n_neighbors': [2, 3, 4, 5], 'p': [1, 1.5, 2],\n",
              "                         'weights': ['uniform', 'distance']})"
            ]
          },
          "execution_count": 15,
          "metadata": {},
          "output_type": "execute_result"
        }
      ],
      "source": [
        "knn = KNeighborsClassifier()\n",
        "params = {\n",
        "    'n_neighbors' : [i for i in range(2,6)],\n",
        "    'weights': ['uniform', 'distance'],\n",
        "    'p' : [1,1.5, 2],\n",
        "    'n_jobs': [-1],\n",
        "    'metric' : ['euclidean','manhattan']\n",
        "}\n",
        "cv = GridSearchCV(knn, param_grid=params, cv=3)\n",
        "cv.fit(X_train,y_train)"
      ]
    },
    {
      "cell_type": "code",
      "execution_count": null,
      "metadata": {
        "colab": {
          "base_uri": "https://localhost:8080/"
        },
        "id": "WOASGBlE7-XC",
        "outputId": "563bf124-aba1-4457-fb86-b7eafe3990ea"
      },
      "outputs": [
        {
          "data": {
            "text/plain": [
              "{'mean_fit_time': array([0.0129648 , 0.01229954, 0.01163395, 0.0113008 , 0.01529392,\n",
              "        0.01363055, 0.0142951 , 0.01329621, 0.01080887, 0.01348289,\n",
              "        0.01063808, 0.01480937, 0.01130223, 0.01229938, 0.01127744,\n",
              "        0.01196424, 0.01030787, 0.01096892, 0.01163626, 0.0099806 ,\n",
              "        0.01130311, 0.00964069, 0.01263356, 0.01063776, 0.01329899,\n",
              "        0.01497181, 0.01296512, 0.01163626, 0.01263499, 0.01130271,\n",
              "        0.01961549, 0.01429542, 0.0129652 , 0.01196678, 0.0146277 ,\n",
              "        0.01429478, 0.01296536, 0.01230129, 0.01230113, 0.01296473,\n",
              "        0.01595775, 0.01230065, 0.00963871, 0.01097043, 0.01263396,\n",
              "        0.01362967, 0.01546264, 0.01429454]),\n",
              " 'std_fit_time': array([0.0014113 , 0.00124547, 0.00169367, 0.00047239, 0.00338958,\n",
              "        0.00169477, 0.00234994, 0.00187801, 0.00023041, 0.00229292,\n",
              "        0.00169522, 0.00063975, 0.00093988, 0.00169434, 0.0026418 ,\n",
              "        0.00080848, 0.00047418, 0.00140787, 0.00169548, 0.00140744,\n",
              "        0.00261562, 0.00094004, 0.00124267, 0.0009419 , 0.00188042,\n",
              "        0.00242455, 0.00141046, 0.00047103, 0.00094375, 0.00261712,\n",
              "        0.00261819, 0.00329094, 0.00215424, 0.00141063, 0.00124331,\n",
              "        0.00338754, 0.00141046, 0.0032901 , 0.0016955 , 0.00081507,\n",
              "        0.00141012, 0.00047008, 0.00169374, 0.0014095 , 0.00376057,\n",
              "        0.00169431, 0.00267445, 0.00047109]),\n",
              " 'mean_score_time': array([0.48260697, 0.38465953, 0.48636699, 0.39022485, 0.5356226 ,\n",
              "        0.41180476, 0.57625477, 0.41451478, 0.51800712, 0.42130558,\n",
              "        0.50984112, 0.40768997, 0.54464038, 0.46378795, 0.54583216,\n",
              "        0.4721748 , 0.59217795, 0.46636748, 0.55346656, 0.45463141,\n",
              "        0.53589813, 0.46617659, 0.53947115, 0.45340435, 1.13321288,\n",
              "        1.11582104, 1.03499929, 0.98274589, 1.03772219, 0.90993913,\n",
              "        1.36644514, 1.0757575 , 1.06484365, 0.9684097 , 1.04743973,\n",
              "        1.1089557 , 1.21997857, 1.01092331, 1.1300021 , 1.08760047,\n",
              "        1.20132279, 1.00275763, 1.08428407, 0.95908912, 1.17512035,\n",
              "        1.12920046, 1.28971616, 1.20122663]),\n",
              " 'std_score_time': array([0.02411003, 0.00407666, 0.02082927, 0.00854129, 0.00841983,\n",
              "        0.01734472, 0.06265623, 0.00464574, 0.00889189, 0.00539818,\n",
              "        0.00801144, 0.00891022, 0.00373654, 0.01902286, 0.00733819,\n",
              "        0.01210862, 0.02946106, 0.02788556, 0.01200891, 0.00716954,\n",
              "        0.0192902 , 0.01259163, 0.00361926, 0.00699889, 0.06378657,\n",
              "        0.0268365 , 0.0161099 , 0.00104789, 0.07399736, 0.06859559,\n",
              "        0.06785076, 0.06266052, 0.00648169, 0.00802003, 0.0346129 ,\n",
              "        0.09842849, 0.00385086, 0.01456371, 0.00212152, 0.02351053,\n",
              "        0.09007063, 0.01159948, 0.05030959, 0.0400453 , 0.04496178,\n",
              "        0.09036842, 0.11843641, 0.06124821]),\n",
              " 'param_metric': masked_array(data=['euclidean', 'euclidean', 'euclidean', 'euclidean',\n",
              "                    'euclidean', 'euclidean', 'euclidean', 'euclidean',\n",
              "                    'euclidean', 'euclidean', 'euclidean', 'euclidean',\n",
              "                    'euclidean', 'euclidean', 'euclidean', 'euclidean',\n",
              "                    'euclidean', 'euclidean', 'euclidean', 'euclidean',\n",
              "                    'euclidean', 'euclidean', 'euclidean', 'euclidean',\n",
              "                    'manhattan', 'manhattan', 'manhattan', 'manhattan',\n",
              "                    'manhattan', 'manhattan', 'manhattan', 'manhattan',\n",
              "                    'manhattan', 'manhattan', 'manhattan', 'manhattan',\n",
              "                    'manhattan', 'manhattan', 'manhattan', 'manhattan',\n",
              "                    'manhattan', 'manhattan', 'manhattan', 'manhattan',\n",
              "                    'manhattan', 'manhattan', 'manhattan', 'manhattan'],\n",
              "              mask=[False, False, False, False, False, False, False, False,\n",
              "                    False, False, False, False, False, False, False, False,\n",
              "                    False, False, False, False, False, False, False, False,\n",
              "                    False, False, False, False, False, False, False, False,\n",
              "                    False, False, False, False, False, False, False, False,\n",
              "                    False, False, False, False, False, False, False, False],\n",
              "        fill_value='?',\n",
              "             dtype=object),\n",
              " 'param_n_jobs': masked_array(data=[-1, -1, -1, -1, -1, -1, -1, -1, -1, -1, -1, -1, -1, -1,\n",
              "                    -1, -1, -1, -1, -1, -1, -1, -1, -1, -1, -1, -1, -1, -1,\n",
              "                    -1, -1, -1, -1, -1, -1, -1, -1, -1, -1, -1, -1, -1, -1,\n",
              "                    -1, -1, -1, -1, -1, -1],\n",
              "              mask=[False, False, False, False, False, False, False, False,\n",
              "                    False, False, False, False, False, False, False, False,\n",
              "                    False, False, False, False, False, False, False, False,\n",
              "                    False, False, False, False, False, False, False, False,\n",
              "                    False, False, False, False, False, False, False, False,\n",
              "                    False, False, False, False, False, False, False, False],\n",
              "        fill_value='?',\n",
              "             dtype=object),\n",
              " 'param_n_neighbors': masked_array(data=[2, 2, 2, 2, 2, 2, 3, 3, 3, 3, 3, 3, 4, 4, 4, 4, 4, 4,\n",
              "                    5, 5, 5, 5, 5, 5, 2, 2, 2, 2, 2, 2, 3, 3, 3, 3, 3, 3,\n",
              "                    4, 4, 4, 4, 4, 4, 5, 5, 5, 5, 5, 5],\n",
              "              mask=[False, False, False, False, False, False, False, False,\n",
              "                    False, False, False, False, False, False, False, False,\n",
              "                    False, False, False, False, False, False, False, False,\n",
              "                    False, False, False, False, False, False, False, False,\n",
              "                    False, False, False, False, False, False, False, False,\n",
              "                    False, False, False, False, False, False, False, False],\n",
              "        fill_value='?',\n",
              "             dtype=object),\n",
              " 'param_p': masked_array(data=[1, 1, 1.5, 1.5, 2, 2, 1, 1, 1.5, 1.5, 2, 2, 1, 1, 1.5,\n",
              "                    1.5, 2, 2, 1, 1, 1.5, 1.5, 2, 2, 1, 1, 1.5, 1.5, 2, 2,\n",
              "                    1, 1, 1.5, 1.5, 2, 2, 1, 1, 1.5, 1.5, 2, 2, 1, 1, 1.5,\n",
              "                    1.5, 2, 2],\n",
              "              mask=[False, False, False, False, False, False, False, False,\n",
              "                    False, False, False, False, False, False, False, False,\n",
              "                    False, False, False, False, False, False, False, False,\n",
              "                    False, False, False, False, False, False, False, False,\n",
              "                    False, False, False, False, False, False, False, False,\n",
              "                    False, False, False, False, False, False, False, False],\n",
              "        fill_value='?',\n",
              "             dtype=object),\n",
              " 'param_weights': masked_array(data=['uniform', 'distance', 'uniform', 'distance',\n",
              "                    'uniform', 'distance', 'uniform', 'distance',\n",
              "                    'uniform', 'distance', 'uniform', 'distance',\n",
              "                    'uniform', 'distance', 'uniform', 'distance',\n",
              "                    'uniform', 'distance', 'uniform', 'distance',\n",
              "                    'uniform', 'distance', 'uniform', 'distance',\n",
              "                    'uniform', 'distance', 'uniform', 'distance',\n",
              "                    'uniform', 'distance', 'uniform', 'distance',\n",
              "                    'uniform', 'distance', 'uniform', 'distance',\n",
              "                    'uniform', 'distance', 'uniform', 'distance',\n",
              "                    'uniform', 'distance', 'uniform', 'distance',\n",
              "                    'uniform', 'distance', 'uniform', 'distance'],\n",
              "              mask=[False, False, False, False, False, False, False, False,\n",
              "                    False, False, False, False, False, False, False, False,\n",
              "                    False, False, False, False, False, False, False, False,\n",
              "                    False, False, False, False, False, False, False, False,\n",
              "                    False, False, False, False, False, False, False, False,\n",
              "                    False, False, False, False, False, False, False, False],\n",
              "        fill_value='?',\n",
              "             dtype=object),\n",
              " 'params': [{'metric': 'euclidean',\n",
              "   'n_jobs': -1,\n",
              "   'n_neighbors': 2,\n",
              "   'p': 1,\n",
              "   'weights': 'uniform'},\n",
              "  {'metric': 'euclidean',\n",
              "   'n_jobs': -1,\n",
              "   'n_neighbors': 2,\n",
              "   'p': 1,\n",
              "   'weights': 'distance'},\n",
              "  {'metric': 'euclidean',\n",
              "   'n_jobs': -1,\n",
              "   'n_neighbors': 2,\n",
              "   'p': 1.5,\n",
              "   'weights': 'uniform'},\n",
              "  {'metric': 'euclidean',\n",
              "   'n_jobs': -1,\n",
              "   'n_neighbors': 2,\n",
              "   'p': 1.5,\n",
              "   'weights': 'distance'},\n",
              "  {'metric': 'euclidean',\n",
              "   'n_jobs': -1,\n",
              "   'n_neighbors': 2,\n",
              "   'p': 2,\n",
              "   'weights': 'uniform'},\n",
              "  {'metric': 'euclidean',\n",
              "   'n_jobs': -1,\n",
              "   'n_neighbors': 2,\n",
              "   'p': 2,\n",
              "   'weights': 'distance'},\n",
              "  {'metric': 'euclidean',\n",
              "   'n_jobs': -1,\n",
              "   'n_neighbors': 3,\n",
              "   'p': 1,\n",
              "   'weights': 'uniform'},\n",
              "  {'metric': 'euclidean',\n",
              "   'n_jobs': -1,\n",
              "   'n_neighbors': 3,\n",
              "   'p': 1,\n",
              "   'weights': 'distance'},\n",
              "  {'metric': 'euclidean',\n",
              "   'n_jobs': -1,\n",
              "   'n_neighbors': 3,\n",
              "   'p': 1.5,\n",
              "   'weights': 'uniform'},\n",
              "  {'metric': 'euclidean',\n",
              "   'n_jobs': -1,\n",
              "   'n_neighbors': 3,\n",
              "   'p': 1.5,\n",
              "   'weights': 'distance'},\n",
              "  {'metric': 'euclidean',\n",
              "   'n_jobs': -1,\n",
              "   'n_neighbors': 3,\n",
              "   'p': 2,\n",
              "   'weights': 'uniform'},\n",
              "  {'metric': 'euclidean',\n",
              "   'n_jobs': -1,\n",
              "   'n_neighbors': 3,\n",
              "   'p': 2,\n",
              "   'weights': 'distance'},\n",
              "  {'metric': 'euclidean',\n",
              "   'n_jobs': -1,\n",
              "   'n_neighbors': 4,\n",
              "   'p': 1,\n",
              "   'weights': 'uniform'},\n",
              "  {'metric': 'euclidean',\n",
              "   'n_jobs': -1,\n",
              "   'n_neighbors': 4,\n",
              "   'p': 1,\n",
              "   'weights': 'distance'},\n",
              "  {'metric': 'euclidean',\n",
              "   'n_jobs': -1,\n",
              "   'n_neighbors': 4,\n",
              "   'p': 1.5,\n",
              "   'weights': 'uniform'},\n",
              "  {'metric': 'euclidean',\n",
              "   'n_jobs': -1,\n",
              "   'n_neighbors': 4,\n",
              "   'p': 1.5,\n",
              "   'weights': 'distance'},\n",
              "  {'metric': 'euclidean',\n",
              "   'n_jobs': -1,\n",
              "   'n_neighbors': 4,\n",
              "   'p': 2,\n",
              "   'weights': 'uniform'},\n",
              "  {'metric': 'euclidean',\n",
              "   'n_jobs': -1,\n",
              "   'n_neighbors': 4,\n",
              "   'p': 2,\n",
              "   'weights': 'distance'},\n",
              "  {'metric': 'euclidean',\n",
              "   'n_jobs': -1,\n",
              "   'n_neighbors': 5,\n",
              "   'p': 1,\n",
              "   'weights': 'uniform'},\n",
              "  {'metric': 'euclidean',\n",
              "   'n_jobs': -1,\n",
              "   'n_neighbors': 5,\n",
              "   'p': 1,\n",
              "   'weights': 'distance'},\n",
              "  {'metric': 'euclidean',\n",
              "   'n_jobs': -1,\n",
              "   'n_neighbors': 5,\n",
              "   'p': 1.5,\n",
              "   'weights': 'uniform'},\n",
              "  {'metric': 'euclidean',\n",
              "   'n_jobs': -1,\n",
              "   'n_neighbors': 5,\n",
              "   'p': 1.5,\n",
              "   'weights': 'distance'},\n",
              "  {'metric': 'euclidean',\n",
              "   'n_jobs': -1,\n",
              "   'n_neighbors': 5,\n",
              "   'p': 2,\n",
              "   'weights': 'uniform'},\n",
              "  {'metric': 'euclidean',\n",
              "   'n_jobs': -1,\n",
              "   'n_neighbors': 5,\n",
              "   'p': 2,\n",
              "   'weights': 'distance'},\n",
              "  {'metric': 'manhattan',\n",
              "   'n_jobs': -1,\n",
              "   'n_neighbors': 2,\n",
              "   'p': 1,\n",
              "   'weights': 'uniform'},\n",
              "  {'metric': 'manhattan',\n",
              "   'n_jobs': -1,\n",
              "   'n_neighbors': 2,\n",
              "   'p': 1,\n",
              "   'weights': 'distance'},\n",
              "  {'metric': 'manhattan',\n",
              "   'n_jobs': -1,\n",
              "   'n_neighbors': 2,\n",
              "   'p': 1.5,\n",
              "   'weights': 'uniform'},\n",
              "  {'metric': 'manhattan',\n",
              "   'n_jobs': -1,\n",
              "   'n_neighbors': 2,\n",
              "   'p': 1.5,\n",
              "   'weights': 'distance'},\n",
              "  {'metric': 'manhattan',\n",
              "   'n_jobs': -1,\n",
              "   'n_neighbors': 2,\n",
              "   'p': 2,\n",
              "   'weights': 'uniform'},\n",
              "  {'metric': 'manhattan',\n",
              "   'n_jobs': -1,\n",
              "   'n_neighbors': 2,\n",
              "   'p': 2,\n",
              "   'weights': 'distance'},\n",
              "  {'metric': 'manhattan',\n",
              "   'n_jobs': -1,\n",
              "   'n_neighbors': 3,\n",
              "   'p': 1,\n",
              "   'weights': 'uniform'},\n",
              "  {'metric': 'manhattan',\n",
              "   'n_jobs': -1,\n",
              "   'n_neighbors': 3,\n",
              "   'p': 1,\n",
              "   'weights': 'distance'},\n",
              "  {'metric': 'manhattan',\n",
              "   'n_jobs': -1,\n",
              "   'n_neighbors': 3,\n",
              "   'p': 1.5,\n",
              "   'weights': 'uniform'},\n",
              "  {'metric': 'manhattan',\n",
              "   'n_jobs': -1,\n",
              "   'n_neighbors': 3,\n",
              "   'p': 1.5,\n",
              "   'weights': 'distance'},\n",
              "  {'metric': 'manhattan',\n",
              "   'n_jobs': -1,\n",
              "   'n_neighbors': 3,\n",
              "   'p': 2,\n",
              "   'weights': 'uniform'},\n",
              "  {'metric': 'manhattan',\n",
              "   'n_jobs': -1,\n",
              "   'n_neighbors': 3,\n",
              "   'p': 2,\n",
              "   'weights': 'distance'},\n",
              "  {'metric': 'manhattan',\n",
              "   'n_jobs': -1,\n",
              "   'n_neighbors': 4,\n",
              "   'p': 1,\n",
              "   'weights': 'uniform'},\n",
              "  {'metric': 'manhattan',\n",
              "   'n_jobs': -1,\n",
              "   'n_neighbors': 4,\n",
              "   'p': 1,\n",
              "   'weights': 'distance'},\n",
              "  {'metric': 'manhattan',\n",
              "   'n_jobs': -1,\n",
              "   'n_neighbors': 4,\n",
              "   'p': 1.5,\n",
              "   'weights': 'uniform'},\n",
              "  {'metric': 'manhattan',\n",
              "   'n_jobs': -1,\n",
              "   'n_neighbors': 4,\n",
              "   'p': 1.5,\n",
              "   'weights': 'distance'},\n",
              "  {'metric': 'manhattan',\n",
              "   'n_jobs': -1,\n",
              "   'n_neighbors': 4,\n",
              "   'p': 2,\n",
              "   'weights': 'uniform'},\n",
              "  {'metric': 'manhattan',\n",
              "   'n_jobs': -1,\n",
              "   'n_neighbors': 4,\n",
              "   'p': 2,\n",
              "   'weights': 'distance'},\n",
              "  {'metric': 'manhattan',\n",
              "   'n_jobs': -1,\n",
              "   'n_neighbors': 5,\n",
              "   'p': 1,\n",
              "   'weights': 'uniform'},\n",
              "  {'metric': 'manhattan',\n",
              "   'n_jobs': -1,\n",
              "   'n_neighbors': 5,\n",
              "   'p': 1,\n",
              "   'weights': 'distance'},\n",
              "  {'metric': 'manhattan',\n",
              "   'n_jobs': -1,\n",
              "   'n_neighbors': 5,\n",
              "   'p': 1.5,\n",
              "   'weights': 'uniform'},\n",
              "  {'metric': 'manhattan',\n",
              "   'n_jobs': -1,\n",
              "   'n_neighbors': 5,\n",
              "   'p': 1.5,\n",
              "   'weights': 'distance'},\n",
              "  {'metric': 'manhattan',\n",
              "   'n_jobs': -1,\n",
              "   'n_neighbors': 5,\n",
              "   'p': 2,\n",
              "   'weights': 'uniform'},\n",
              "  {'metric': 'manhattan',\n",
              "   'n_jobs': -1,\n",
              "   'n_neighbors': 5,\n",
              "   'p': 2,\n",
              "   'weights': 'distance'}],\n",
              " 'split0_test_score': array([0.95473251, 0.96707819, 0.95473251, 0.96707819, 0.95473251,\n",
              "        0.96707819, 0.96049383, 0.96255144, 0.96049383, 0.96255144,\n",
              "        0.96049383, 0.96255144, 0.95967078, 0.96584362, 0.95967078,\n",
              "        0.96584362, 0.95967078, 0.96584362, 0.95843621, 0.95925926,\n",
              "        0.95843621, 0.95925926, 0.95843621, 0.95925926, 0.94526749,\n",
              "        0.95679012, 0.94526749, 0.95679012, 0.94526749, 0.95679012,\n",
              "        0.95349794, 0.95596708, 0.95349794, 0.95596708, 0.95349794,\n",
              "        0.95596708, 0.94897119, 0.95679012, 0.94897119, 0.95679012,\n",
              "        0.94897119, 0.95679012, 0.95061728, 0.95226337, 0.95061728,\n",
              "        0.95226337, 0.95061728, 0.95226337]),\n",
              " 'split1_test_score': array([0.95843621, 0.96255144, 0.95843621, 0.96255144, 0.95843621,\n",
              "        0.96255144, 0.9600823 , 0.96213992, 0.9600823 , 0.96213992,\n",
              "        0.9600823 , 0.96213992, 0.95514403, 0.9600823 , 0.95514403,\n",
              "        0.9600823 , 0.95514403, 0.9600823 , 0.9563786 , 0.95884774,\n",
              "        0.9563786 , 0.95884774, 0.9563786 , 0.95884774, 0.94485597,\n",
              "        0.95226337, 0.94485597, 0.95226337, 0.94485597, 0.95226337,\n",
              "        0.94814815, 0.95185185, 0.94814815, 0.95185185, 0.94814815,\n",
              "        0.95185185, 0.94156379, 0.94938272, 0.94156379, 0.94938272,\n",
              "        0.94156379, 0.94938272, 0.94444444, 0.94567901, 0.94444444,\n",
              "        0.94567901, 0.94444444, 0.94567901]),\n",
              " 'split2_test_score': array([0.95925926, 0.96666667, 0.95925926, 0.96666667, 0.95925926,\n",
              "        0.96666667, 0.96502058, 0.96666667, 0.96502058, 0.96666667,\n",
              "        0.96502058, 0.96666667, 0.95967078, 0.96748971, 0.95967078,\n",
              "        0.96748971, 0.95967078, 0.96748971, 0.96090535, 0.96049383,\n",
              "        0.96090535, 0.96049383, 0.96090535, 0.96049383, 0.94938272,\n",
              "        0.96131687, 0.94938272, 0.96131687, 0.94938272, 0.96131687,\n",
              "        0.95514403, 0.95679012, 0.95514403, 0.95679012, 0.95514403,\n",
              "        0.95679012, 0.94773663, 0.95679012, 0.94773663, 0.95679012,\n",
              "        0.94773663, 0.95679012, 0.95144033, 0.95102881, 0.95144033,\n",
              "        0.95102881, 0.95144033, 0.95102881]),\n",
              " 'mean_test_score': array([0.95747599, 0.9654321 , 0.95747599, 0.9654321 , 0.95747599,\n",
              "        0.9654321 , 0.96186557, 0.96378601, 0.96186557, 0.96378601,\n",
              "        0.96186557, 0.96378601, 0.95816187, 0.96447188, 0.95816187,\n",
              "        0.96447188, 0.95816187, 0.96447188, 0.95857339, 0.95953361,\n",
              "        0.95857339, 0.95953361, 0.95857339, 0.95953361, 0.94650206,\n",
              "        0.95679012, 0.94650206, 0.95679012, 0.94650206, 0.95679012,\n",
              "        0.95226337, 0.95486968, 0.95226337, 0.95486968, 0.95226337,\n",
              "        0.95486968, 0.94609053, 0.95432099, 0.94609053, 0.95432099,\n",
              "        0.94609053, 0.95432099, 0.94883402, 0.94965706, 0.94883402,\n",
              "        0.94965706, 0.94883402, 0.94965706]),\n",
              " 'std_test_score': array([0.00196882, 0.00204385, 0.00196882, 0.00204385, 0.00196882,\n",
              "        0.00204385, 0.00223724, 0.00204385, 0.00223724, 0.00204385,\n",
              "        0.00223724, 0.00204385, 0.00213393, 0.00317581, 0.00213393,\n",
              "        0.00317581, 0.00213393, 0.00317581, 0.00185058, 0.00069945,\n",
              "        0.00185058, 0.00069945, 0.00185058, 0.00069945, 0.00204385,\n",
              "        0.00369608, 0.00204385, 0.00369608, 0.00204385, 0.00369608,\n",
              "        0.00298649, 0.00216022, 0.00298649, 0.00216022, 0.00298649,\n",
              "        0.00216022, 0.00324033, 0.00349189, 0.00324033, 0.00349189,\n",
              "        0.00324033, 0.00349189, 0.00312203, 0.0028577 , 0.00312203,\n",
              "        0.0028577 , 0.00312203, 0.0028577 ]),\n",
              " 'rank_test_score': array([22,  1, 22,  1, 22,  1, 10,  7, 10,  7, 10,  7, 19,  4, 19,  4, 19,\n",
              "         4, 16, 13, 16, 13, 16, 13, 43, 25, 43, 25, 43, 25, 34, 28, 34, 28,\n",
              "        34, 28, 46, 31, 46, 31, 46, 31, 40, 37, 40, 37, 40, 37])}"
            ]
          },
          "execution_count": 16,
          "metadata": {},
          "output_type": "execute_result"
        }
      ],
      "source": [
        "cv.cv_results_"
      ]
    },
    {
      "cell_type": "code",
      "execution_count": null,
      "metadata": {
        "colab": {
          "base_uri": "https://localhost:8080/"
        },
        "id": "qU6cAYMZ8VWz",
        "outputId": "6236ef9b-c987-418f-cb47-7d1a1bcbb411"
      },
      "outputs": [
        {
          "data": {
            "text/plain": [
              "array([0.95747599, 0.9654321 , 0.95747599, 0.9654321 , 0.95747599,\n",
              "       0.9654321 , 0.96186557, 0.96378601, 0.96186557, 0.96378601,\n",
              "       0.96186557, 0.96378601, 0.95816187, 0.96447188, 0.95816187,\n",
              "       0.96447188, 0.95816187, 0.96447188, 0.95857339, 0.95953361,\n",
              "       0.95857339, 0.95953361, 0.95857339, 0.95953361, 0.94650206,\n",
              "       0.95679012, 0.94650206, 0.95679012, 0.94650206, 0.95679012,\n",
              "       0.95226337, 0.95486968, 0.95226337, 0.95486968, 0.95226337,\n",
              "       0.95486968, 0.94609053, 0.95432099, 0.94609053, 0.95432099,\n",
              "       0.94609053, 0.95432099, 0.94883402, 0.94965706, 0.94883402,\n",
              "       0.94965706, 0.94883402, 0.94965706])"
            ]
          },
          "execution_count": 17,
          "metadata": {},
          "output_type": "execute_result"
        }
      ],
      "source": [
        "cv.cv_results_['mean_test_score']"
      ]
    },
    {
      "cell_type": "code",
      "execution_count": null,
      "metadata": {
        "colab": {
          "base_uri": "https://localhost:8080/"
        },
        "id": "P1K1nHDT8Zma",
        "outputId": "d2d4d5b1-54ec-4759-e1b8-74a29cef1ae4"
      },
      "outputs": [
        {
          "data": {
            "text/plain": [
              "0.9654320987654321"
            ]
          },
          "execution_count": 18,
          "metadata": {},
          "output_type": "execute_result"
        }
      ],
      "source": [
        "cv.best_score_"
      ]
    },
    {
      "cell_type": "code",
      "execution_count": null,
      "metadata": {
        "colab": {
          "base_uri": "https://localhost:8080/"
        },
        "id": "OFCbc1Xp8nzi",
        "outputId": "b03af0e9-e360-4834-a25d-494241661dc9"
      },
      "outputs": [
        {
          "data": {
            "text/plain": [
              "{'metric': 'euclidean',\n",
              " 'n_jobs': -1,\n",
              " 'n_neighbors': 2,\n",
              " 'p': 1,\n",
              " 'weights': 'distance'}"
            ]
          },
          "execution_count": 19,
          "metadata": {},
          "output_type": "execute_result"
        }
      ],
      "source": [
        "cv.best_params_"
      ]
    },
    {
      "cell_type": "code",
      "execution_count": null,
      "metadata": {
        "id": "tirlfq6d8sSu"
      },
      "outputs": [],
      "source": [
        "model = cv.best_estimator_"
      ]
    },
    {
      "cell_type": "code",
      "execution_count": null,
      "metadata": {
        "colab": {
          "base_uri": "https://localhost:8080/"
        },
        "id": "pHZQicDo89qy",
        "outputId": "ddf88604-144c-4b6b-d5d7-c0ec312f1914"
      },
      "outputs": [
        {
          "data": {
            "text/plain": [
              "0.9436689930209372"
            ]
          },
          "execution_count": 80,
          "metadata": {},
          "output_type": "execute_result"
        }
      ],
      "source": [
        "#Optimal model using the standard knn()\n",
        "model.score(X_test, y_test)"
      ]
    },
    {
      "cell_type": "markdown",
      "source": [
        "## Problem 2"
      ],
      "metadata": {
        "id": "aDyno_dKtIN6"
      }
    },
    {
      "cell_type": "code",
      "execution_count": null,
      "metadata": {
        "id": "OA_XfVz7CsAn"
      },
      "outputs": [],
      "source": [
        "from scipy import ndimage"
      ]
    },
    {
      "cell_type": "code",
      "execution_count": null,
      "metadata": {
        "id": "higXYiRXE8si"
      },
      "outputs": [],
      "source": [
        "#Generate some rotations of the image with small angles (-4,-2,0,2,4) and add to the training data.\n",
        "X_rotations = []\n",
        "y_rotations = []\n",
        "angles = [-4,-2,0,2,4]\n",
        "\n",
        "for n in range(len(X_train)):\n",
        "  im = X_train[n]\n",
        "  im = im.reshape(16,16)\n",
        "  for angle in angles:\n",
        "    #print(im.shape)\n",
        "    #im_ = ''\n",
        "    im_ = ndimage.rotate(im, angle, reshape=False)\n",
        "    X_rotations.append(im_.reshape(256,))\n",
        "    y_rotations.append(y_train[n])"
      ]
    },
    {
      "cell_type": "code",
      "execution_count": null,
      "metadata": {
        "id": "0zerUXiZWFuO",
        "scrolled": true,
        "outputId": "e3219b94-922a-4cde-8a88-3ea5ce650546"
      },
      "outputs": [
        {
          "name": "stdout",
          "output_type": "stream",
          "text": [
            "Round : 0\n",
            "mean test scores:  [0.83999471 0.83999471 0.83999471 0.83999471 0.83999471 0.83999471\n",
            " 0.83999471 0.83999471 0.83999471 0.83999471 0.81801457 0.83999471\n",
            " 0.81801457 0.83999471 0.81801457 0.83999471 0.81801457 0.83999471\n",
            " 0.81801457 0.83999471 0.81403458 0.83403073 0.81403458 0.83403073\n",
            " 0.81403458 0.83403073 0.81403458 0.83403073 0.81403458 0.83403073\n",
            " 0.80400644 0.8379987  0.80400644 0.8379987  0.80400644 0.8379987\n",
            " 0.80400644 0.8379987  0.80400644 0.8379987 ]\n",
            "best score:  0.8399947093764277\n",
            "best parameters:  {'metric': 'euclidean', 'n_jobs': -1, 'n_neighbors': 1, 'p': 1, 'weights': 'uniform'}\n",
            "Round : 1\n",
            "mean test scores:  [0.85795878 0.85795878 0.85795878 0.85795878 0.85795878 0.85795878\n",
            " 0.85795878 0.85795878 0.85795878 0.85795878 0.8159344  0.85795878\n",
            " 0.8159344  0.85795878 0.8159344  0.85795878 0.8159344  0.85795878\n",
            " 0.8159344  0.85795878 0.83394656 0.85593872 0.83394656 0.85593872\n",
            " 0.83394656 0.85593872 0.83394656 0.85593872 0.83394656 0.85593872\n",
            " 0.83193853 0.85595075 0.83193853 0.85595075 0.83193853 0.85595075\n",
            " 0.83193853 0.85595075 0.83193853 0.85595075]\n",
            "best score:  0.8579587812327153\n",
            "best parameters:  {'metric': 'euclidean', 'n_jobs': -1, 'n_neighbors': 1, 'p': 1, 'weights': 'uniform'}\n",
            "Round : 2\n",
            "mean test scores:  [0.84000673 0.84000673 0.84000673 0.84000673 0.84000673 0.84000673\n",
            " 0.84000673 0.84000673 0.84000673 0.84000673 0.79197028 0.84000673\n",
            " 0.79197028 0.84000673 0.79197028 0.84000673 0.79197028 0.84000673\n",
            " 0.79197028 0.84000673 0.79794628 0.82597456 0.79794628 0.82597456\n",
            " 0.79794628 0.82597456 0.79794628 0.82597456 0.79794628 0.82597456\n",
            " 0.80998244 0.81595844 0.80998244 0.81595844 0.80998244 0.81595844\n",
            " 0.80998244 0.81595844 0.80998244 0.81595844]\n",
            "best score:  0.8400067335209099\n",
            "best parameters:  {'metric': 'euclidean', 'n_jobs': -1, 'n_neighbors': 1, 'p': 1, 'weights': 'uniform'}\n",
            "Round : 3\n",
            "mean test scores:  [0.84601881 0.84601881 0.84601881 0.84601881 0.84601881 0.84601881\n",
            " 0.84601881 0.84601881 0.84601881 0.84601881 0.81801457 0.84601881\n",
            " 0.81801457 0.84601881 0.81801457 0.84601881 0.81801457 0.84601881\n",
            " 0.81801457 0.84601881 0.83197461 0.84199072 0.83197461 0.84199072\n",
            " 0.83197461 0.84199072 0.83197461 0.84199072 0.83197461 0.84199072\n",
            " 0.83400669 0.84403482 0.83400669 0.84403482 0.83400669 0.84403482\n",
            " 0.83400669 0.84403482 0.83400669 0.84403482]\n",
            "best score:  0.84601880576197\n",
            "best parameters:  {'metric': 'euclidean', 'n_jobs': -1, 'n_neighbors': 1, 'p': 1, 'weights': 'uniform'}\n",
            "Round : 4\n",
            "mean test scores:  [0.81405863 0.81405863 0.81405863 0.81405863 0.81405863 0.81405863\n",
            " 0.81405863 0.81405863 0.81405863 0.81405863 0.81399851 0.81405863\n",
            " 0.81399851 0.81405863 0.81399851 0.81405863 0.81399851 0.81405863\n",
            " 0.81399851 0.81405863 0.81595844 0.82598658 0.81595844 0.82598658\n",
            " 0.81595844 0.82598658 0.81595844 0.82598658 0.81595844 0.82598658\n",
            " 0.81004257 0.83398264 0.81004257 0.83398264 0.81004257 0.83398264\n",
            " 0.81004257 0.83398264 0.81004257 0.83398264]\n",
            "best score:  0.8339826371353678\n",
            "best parameters:  {'metric': 'euclidean', 'n_jobs': -1, 'n_neighbors': 4, 'p': 1, 'weights': 'distance'}\n",
            "Round : 5\n",
            "mean test scores:  [0.82800664 0.82800664 0.82800664 0.82800664 0.82800664 0.82800664\n",
            " 0.82800664 0.82800664 0.82800664 0.82800664 0.78594618 0.82800664\n",
            " 0.78594618 0.82800664 0.78594618 0.82800664 0.78594618 0.82800664\n",
            " 0.78594618 0.82800664 0.80596638 0.82200659 0.80596638 0.82200659\n",
            " 0.80596638 0.82200659 0.80596638 0.82200659 0.80596638 0.82200659\n",
            " 0.79395426 0.81598249 0.79395426 0.81598249 0.79395426 0.81598249\n",
            " 0.79395426 0.81598249 0.79395426 0.81598249]\n",
            "best score:  0.8280066373277543\n",
            "best parameters:  {'metric': 'euclidean', 'n_jobs': -1, 'n_neighbors': 1, 'p': 1, 'weights': 'uniform'}\n",
            "Round : 6\n",
            "mean test scores:  [0.8299305  0.8299305  0.8299305  0.8299305  0.8299305  0.8299305\n",
            " 0.8299305  0.8299305  0.8299305  0.8299305  0.78793016 0.8299305\n",
            " 0.78793016 0.8299305  0.78793016 0.8299305  0.78793016 0.8299305\n",
            " 0.78793016 0.8299305  0.81398648 0.83395859 0.81398648 0.83395859\n",
            " 0.81398648 0.83395859 0.81398648 0.83395859 0.81398648 0.83395859\n",
            " 0.81193036 0.83594257 0.81193036 0.83594257 0.81193036 0.83594257\n",
            " 0.81193036 0.83594257 0.81193036 0.83594257]\n",
            "best score:  0.8359425726859534\n",
            "best parameters:  {'metric': 'euclidean', 'n_jobs': -1, 'n_neighbors': 4, 'p': 1, 'weights': 'distance'}\n",
            "Round : 7\n",
            "mean test scores:  [0.82403867 0.82403867 0.82403867 0.82403867 0.82403867 0.82403867\n",
            " 0.82403867 0.82403867 0.82403867 0.82403867 0.79801842 0.82403867\n",
            " 0.79801842 0.82403867 0.79801842 0.82403867 0.79801842 0.82403867\n",
            " 0.79801842 0.82403867 0.79605849 0.81607869 0.79605849 0.81607869\n",
            " 0.79605849 0.81607869 0.79605849 0.81607869 0.79605849 0.81607869\n",
            " 0.79004641 0.8200707  0.79004641 0.8200707  0.79004641 0.8200707\n",
            " 0.79004641 0.8200707  0.79004641 0.8200707 ]\n",
            "best score:  0.8240386696486546\n",
            "best parameters:  {'metric': 'euclidean', 'n_jobs': -1, 'n_neighbors': 1, 'p': 1, 'weights': 'uniform'}\n",
            "Round : 8\n",
            "mean test scores:  [0.83397061 0.83397061 0.83397061 0.83397061 0.83397061 0.83397061\n",
            " 0.83397061 0.83397061 0.83397061 0.83397061 0.82199457 0.83397061\n",
            " 0.82199457 0.83397061 0.82199457 0.83397061 0.82199457 0.83397061\n",
            " 0.82199457 0.83397061 0.83397061 0.84196667 0.83397061 0.84196667\n",
            " 0.83397061 0.84196667 0.83397061 0.84196667 0.83397061 0.84196667\n",
            " 0.84201477 0.8439747  0.84201477 0.8439747  0.84201477 0.8439747\n",
            " 0.84201477 0.8439747  0.84201477 0.8439747 ]\n",
            "best score:  0.8439747012000097\n",
            "best parameters:  {'metric': 'euclidean', 'n_jobs': -1, 'n_neighbors': 4, 'p': 1, 'weights': 'distance'}\n",
            "Round : 9\n",
            "mean test scores:  [0.8240026  0.8240026  0.8240026  0.8240026  0.8240026  0.8240026\n",
            " 0.8240026  0.8240026  0.8240026  0.8240026  0.80596638 0.8240026\n",
            " 0.80596638 0.8240026  0.80596638 0.8240026  0.80596638 0.8240026\n",
            " 0.80596638 0.8240026  0.82399057 0.83798668 0.82399057 0.83798668\n",
            " 0.82399057 0.83798668 0.82399057 0.83798668 0.82399057 0.83798668\n",
            " 0.81794243 0.83599067 0.81794243 0.83599067 0.81794243 0.83599067\n",
            " 0.81794243 0.83599067 0.81794243 0.83599067]\n",
            "best score:  0.8379866772479138\n",
            "best parameters:  {'metric': 'euclidean', 'n_jobs': -1, 'n_neighbors': 3, 'p': 1, 'weights': 'distance'}\n"
          ]
        }
      ],
      "source": [
        "results = []\n",
        "best_params = []\n",
        "for i in range(10):\n",
        "  inds = np.random.randint(0,len(X_rotations), 500)\n",
        "  X_train_new = [X_rotations[ind] for ind in inds]\n",
        "  y_train_new = [y_rotations[ind] for ind in inds]\n",
        "\n",
        "  knn = KNeighborsClassifier()\n",
        "  params = {\n",
        "    'n_neighbors' : [j for j in range(1,5)],\n",
        "    'weights': ['uniform', 'distance'],\n",
        "    'p' : [1, 1.5, 2, 2.5,3],\n",
        "    'n_jobs': [-1],\n",
        "    'metric' : ['euclidean']\n",
        "  }\n",
        "  cv = GridSearchCV(knn, param_grid=params, cv=3)\n",
        "  cv.fit(X_train_new,y_train_new)\n",
        "\n",
        "  print(\"Round :\", i)\n",
        "  results.append(cv.cv_results_)\n",
        "  best_params.append(cv.best_params_)\n",
        "  print('mean test scores: ', cv.cv_results_['mean_test_score'])\n",
        "  print('best score: ', cv.best_score_)\n",
        "  print('best parameters: ', cv.best_params_)"
      ]
    },
    {
      "cell_type": "code",
      "execution_count": null,
      "metadata": {
        "colab": {
          "base_uri": "https://localhost:8080/"
        },
        "id": "pUnmVVZLb7qf",
        "outputId": "b7b7c5fa-297b-4b3a-fb3f-fda81499fe49"
      },
      "outputs": [
        {
          "name": "stdout",
          "output_type": "stream",
          "text": [
            "0.9441674975074775\n",
            "{'algorithm': 'auto', 'leaf_size': 30, 'metric': 'euclidean', 'metric_params': None, 'n_jobs': -1, 'n_neighbors': 1, 'p': 1, 'weights': 'uniform'}\n"
          ]
        }
      ],
      "source": [
        "model = KNeighborsClassifier()\n",
        "model.fit(X_rotations,y_rotations)\n",
        "model.set_params(n_neighbors=1, n_jobs=-1, p = 1, metric='euclidean', weights='uniform')\n",
        "print(model.score(X_test, y_test))\n",
        "print(model.get_params())"
      ]
    },
    {
      "cell_type": "code",
      "execution_count": null,
      "metadata": {
        "id": "2FlmhOeCpOAf",
        "outputId": "e60d668c-be91-4615-ea57-48a476e09df3"
      },
      "outputs": [
        {
          "name": "stdout",
          "output_type": "stream",
          "text": [
            "0.9476570289132602\n",
            "{'algorithm': 'auto', 'leaf_size': 30, 'metric': 'euclidean', 'metric_params': None, 'n_jobs': -1, 'n_neighbors': 4, 'p': 1, 'weights': 'distance'}\n"
          ]
        }
      ],
      "source": [
        "model = KNeighborsClassifier()\n",
        "model.fit(X_rotations,y_rotations)\n",
        "model.set_params(n_neighbors=4, n_jobs=-1, p = 1, metric='euclidean', weights='distance')\n",
        "print(model.score(X_test, y_test))\n",
        "print(model.get_params())"
      ]
    },
    {
      "cell_type": "code",
      "execution_count": null,
      "metadata": {
        "id": "BejhNTSYpOAg",
        "outputId": "9a52072a-19f0-43d4-b028-6b534427ac7f"
      },
      "outputs": [
        {
          "data": {
            "text/plain": [
              "GridSearchCV(cv=3, estimator=myknn_3(),\n",
              "             param_grid={'k': [1, 2, 3, 4],\n",
              "                         'lmbda': [0.1, 0.2, 0.3, 0.5, 1, 2]})"
            ]
          },
          "execution_count": 76,
          "metadata": {},
          "output_type": "execute_result"
        }
      ],
      "source": [
        "inds = np.random.randint(0,len(X_rotations), 500)\n",
        "X_train_new = [X_rotations[ind] for ind in inds]\n",
        "y_train_new = [y_rotations[ind] for ind in inds]\n",
        "\n",
        "model = myknn_3()\n",
        "cv = GridSearchCV(model, param_grid={'k':[1,2,3,4], 'lmbda':[0.1,0.2,.3,0.5,1,2]}, cv = 3)\n",
        "cv.fit(X_train_new,y_train_new)"
      ]
    },
    {
      "cell_type": "code",
      "execution_count": null,
      "metadata": {
        "id": "N-RfiryUpOAh"
      },
      "outputs": [],
      "source": [
        "best_model = cv.best_estimator_"
      ]
    },
    {
      "cell_type": "code",
      "execution_count": null,
      "metadata": {
        "id": "SDcw4B46pOAi",
        "outputId": "ba47f0c7-200e-4c22-ce0f-12a694187cf1"
      },
      "outputs": [
        {
          "data": {
            "text/plain": [
              "0.8379860418743769"
            ]
          },
          "execution_count": 79,
          "metadata": {},
          "output_type": "execute_result"
        }
      ],
      "source": [
        "#Looks like the rotations are not really helpful on this dataset.\n",
        "best_model.score(X_test, y_test)"
      ]
    }
  ],
  "metadata": {
    "colab": {
      "collapsed_sections": [],
      "name": "Lab6.ipynb",
      "provenance": []
    },
    "kernelspec": {
      "display_name": "Python 3 (ipykernel)",
      "language": "python",
      "name": "python3"
    },
    "language_info": {
      "codemirror_mode": {
        "name": "ipython",
        "version": 3
      },
      "file_extension": ".py",
      "mimetype": "text/x-python",
      "name": "python",
      "nbconvert_exporter": "python",
      "pygments_lexer": "ipython3",
      "version": "3.9.7"
    }
  },
  "nbformat": 4,
  "nbformat_minor": 0
}